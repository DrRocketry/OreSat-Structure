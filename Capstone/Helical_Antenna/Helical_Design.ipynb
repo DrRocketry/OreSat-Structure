{
 "cells": [
  {
   "cell_type": "markdown",
   "metadata": {},
   "source": [
    "(This should probably just go into the Google drive in a design document)"
   ]
  },
  {
   "cell_type": "markdown",
   "metadata": {},
   "source": [
    "# Antenna Design\n",
    "## Constraint & Deployment Mechanisms\n",
    "#### Tethers\n",
    "Four long tethers connect the cap to the structure.  They are in tension when the helix is fully extended.  Note that the helix should still be in compression at its fully deployed state in order to maintain tension in the tethers.  This provides lateral rigidity and damps vibrations of the deployed antenna.  Monofilament won't work, check out something like [Filistrand wire](http://www.portablemasts.com.au/debeglass/debe.htm) or something like that.  The tether should probably be fixed to the helix at every pass - i.e. not just at the ends.  \n",
    "#### Wound-Stowage\n",
    "We could potentially stow the antenna in a spiral (as if it was conical) by winding it up around the Z axis.  Then when it deploys it can spring out to its regular conical shape.\n",
    "\n",
    "Compressing a helix induces torsional stress in the material.  Winding it as it is compressed is deforming it like a torsion spring which imparts a bending stress in the material.  So we'll need to calculate the principle stresses... \n",
    "\n",
    "In order to do that, we need to figure out how much bending stress we'll be adding by winding the coil.  \n",
    "\n",
    "## Contingency Ideas\n",
    "These are not necessarily ideas to pursue at full speed - rather, they are ideas that might be able to get us out of a bind.\n",
    "#### Quadrifilar Support Helix\n",
    "The second helix in a quadrifilar design could be made out of a more resilient, non-conductive material to provide more deployment force.  Connecting the two helices at their ends would improve rigidity.\n",
    "#### External Support Helix\n",
    "Similar to the above idea.  The support helix could have a much larger diameter - again, out of more resilient, non-conductive material.  This would alleviate potential issues caused by too much strain being put on the helix (as a compression spring). \n",
    "#### Truncated Cone\n",
    "Adding a conductive cone around the base of the helix will improve its performance.  This can be made of some thin foil or mesh.  Note that the failure of this mechanism would not endanger the mission at all; it is purely for bonus points and should be pursued if we have the time.  The optimal parameters (which would definitely not fit) are as follows:\n",
    "\n",
    "$ D_1 = 0.75 \\lambda $, $ D_2 = 2.5 \\lambda $, $ h = 0.5 \\lambda $\n",
    "\n",
    "In reality, we will either have one of the following:\n",
    "* Static cone that fits in the 17.6 mm space between the end card and the top of the rails.  The large diameter will fit circumscribed inside the rails.\n",
    "* Deployable cone that compresses into the 6.5 mm space on the end cap. The top, larger diameter could be fixed to the tethers and be deployed in the same action as the helix. \n",
    "\n",
    "## Considerations\n",
    "- [Stress relaxation](https://en.wikipedia.org/wiki/Stress_relaxation) needs to be considered if we're relying on the helix as a compression spring.  The helix can be made longer than needed and heat treated to avoid potential issues.\n",
    "- Burn wires should be used in a way that does not subject them to excessive vibration loads.  They can be rigged up in a way that avoids unnecessary additional stress.  We do not want them to prematurely deploy or be any stronger than needed.\n",
    "    - Example: The wire is wrapped around the circumference of the helix, restraining four hinged mechanisms loaded with torsion springs.  Vibrations causing lateral deformation should be uniform (i.e. all mechanisms should be displaced in the same direction at once) which should not put any additional stress on the burn wire. See Figure 10 of [this paper](https://drive.google.com/open?id=1MxdJtdwylCSzvwULur7TAVtvX_Ytf-ux)."
   ]
  },
  {
   "cell_type": "markdown",
   "metadata": {},
   "source": [
    "# Manufacturing Techniques\n",
    "## Lathe\n",
    "Springs can be made relatively easily with the use of a lathe.  It conveniently has the ability to set the feed rate which is generally used to cut threads on a rod.  By making a custom tool we can use this feature to wind a coil around a mandrel.  There are plenty of [YouTube videos](https://www.youtube.com/watch?v=b06f-zBFXOM) demonstrating this technique.  The only question is whether the lathe will have a long enough working area to acommodate an un-set free-length helix with some margin."
   ]
  },
  {
   "cell_type": "markdown",
   "metadata": {},
   "source": [
    "# Archived Design Decisions\n",
    "## Abandoned Ideas\n",
    "#### Tennis Ball Canister Lid\n",
    "The helix is compressed by a 'lid' that is tied down to the structure by burn wire.  Given the fact that we don't want to: obscure the camera's view; add unnecessary weight... I (Calvin) don't really see the point of using a cap - the tethers can be attached directly to the antenna (at each pass or just at the terminus).  \n",
    "#### Tapered Helix\n",
    "Ultimately, a reasonable tapered helix can't do what we want it to do.  A nominal tapered design introduces an undesreable bandwidth and reduces the gain below a level that we're comfortable with... and even then it does not allow the coil to compress flat - the change in radius per turn is not greater than a reasonable wire diameter.  Besides - it looks like we'll be able to twist the helix while compressing it if we need it to pack flat.  See Wound-Stowage.  "
   ]
  }
 ],
 "metadata": {
  "kernelspec": {
   "display_name": "Python 3",
   "language": "python",
   "name": "python3"
  },
  "language_info": {
   "codemirror_mode": {
    "name": "ipython",
    "version": 3
   },
   "file_extension": ".py",
   "mimetype": "text/x-python",
   "name": "python",
   "nbconvert_exporter": "python",
   "pygments_lexer": "ipython3",
   "version": "3.6.4"
  }
 },
 "nbformat": 4,
 "nbformat_minor": 2
}
