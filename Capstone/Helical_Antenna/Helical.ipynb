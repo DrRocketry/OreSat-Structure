{
 "cells": [
  {
   "cell_type": "markdown",
   "metadata": {
    "collapsed": true
   },
   "source": [
    "# Helical Antenna Design\n",
    "\n",
    "#### Constants\n",
    "$\\lambda = Wavelength = \\frac{c}{f} = \\frac{299,792,458\\ m/s}{2.412\\ GHz} = 0.1242\\ m $ (WiFi Channel 802.11b)\n",
    "#### Design Variables\n",
    "$C_\\lambda =  Circumference\\ of\\ Coil\\ (m) $\n",
    "\n",
    "$D =  Ground\\ Plane\\ Diameter\\ (m) $\n",
    "\n",
    "$S_\\lambda = Pitch\\ (m) $\n",
    "\n",
    "$d = Wire\\ Diameter\\ (m) $\n",
    "\n",
    "$n = Number\\ of\\ Turns$\n",
    "\n",
    "$\\alpha = Pitch\\ Angle\\ (rad) $\n",
    "#### Design Parameters\n",
    "$0.75 \\lambda < C_\\lambda < 1.33 \\lambda$\n",
    "\n",
    "$0.8 \\lambda < D < 1.1 \\lambda$ (Exceeding the upper limit increases sidelobe levels resulting in less clean radiation patterns)\n",
    "\n",
    "$0.2126 C_\\lambda < S_\\lambda < 0.2867 C_\\lambda$\n",
    "\n",
    "$0.006 \\lambda < d < 0.05 \\lambda$ (Smaller diameters are possible, just wanna make sure and test)\n",
    "\n",
    "$n > 3$\n",
    "\n",
    "#### Dependent Variables\n",
    "$\\alpha = arctan \\frac{S_\\lambda}{C_\\lambda}$\n",
    "\n",
    "$ Axial\\ Ratio = \\frac{2n+1}{2n} $ (Should be between 1 and 1.1)\n",
    "\n",
    "$ Gain\\ (dBi) = 11.8 + 10 \\log(2 n C_\\lambda S_\\lambda) $\n",
    "#### Design Considerations\n",
    "- The helix should terminate as close as possible to the groundplane.\n",
    "- The bandwidth should be within +/- 12 GHz (wait what this is huge - what was this supposed to be?)\n",
    "\n",
    "#### Design Constraints\n",
    "- The stowed antenna must fit within 6 mm of the endcap (or 17.6 mm from the endcard).\n",
    "\n",
    "### Calculations for an Ideal Helix"
   ]
  },
  {
   "cell_type": "code",
   "execution_count": 58,
   "metadata": {},
   "outputs": [
    {
     "name": "stdout",
     "output_type": "stream",
     "text": [
      "Frequency: 2.412 (GHz)\n",
      "Wavelength: 0.1243 (m)\n",
      "Circumference of Coil: Between 0.093 and 0.165 (m)\n"
     ]
    }
   ],
   "source": [
    "import math\n",
    "\n",
    "# Universal Constants\n",
    "c = 299792458 # Speed of Light (m/s)\n",
    "f = 2.412e9 # Frequency (Hz)\n",
    "l = c/f # Wavelength (m)\n",
    "\n",
    "# Design Parameters\n",
    "Cl_lo = 0.75*l # Circumference (m)\n",
    "Cl_hi = 1.33*l # Circumference (m)\n",
    "\n",
    "# Print\n",
    "print(\"Frequency: {:.3f} (GHz)\".format(f/1e9))\n",
    "print(\"Wavelength: {:.4f} (m)\".format(l))\n",
    "print(\"Circumference of Coil: Between {:.3f} and {:.3f} (m)\".format(Cl_lo, Cl_hi))"
   ]
  },
  {
   "cell_type": "markdown",
   "metadata": {},
   "source": [
    "# Experimental Designs\n",
    "### Design 1: Uniform Radius (16 Turn)"
   ]
  },
  {
   "cell_type": "code",
   "execution_count": 59,
   "metadata": {},
   "outputs": [
    {
     "name": "stdout",
     "output_type": "stream",
     "text": [
      "Circumference of Coil: 0.125 (m) - Just Right\n",
      "Pitch Angle: 0.227 (rad)\n",
      "Pitch: 0.029 (m)\n"
     ]
    }
   ],
   "source": [
    "# Driving Parameters\n",
    "r = 0.019894 # Radius (m)\n",
    "n = 16 # Number of Tunrs\n",
    "alpha = 13 # Pitch Angle (deg)\n",
    "\n",
    "# Driven Parameters\n",
    "alpha = alpha*(pi/180) # Pitch Angle (rad)\n",
    "Cl = 2*pi*r # Coil Circumference (m)\n",
    "Sl = math.tan(alpha)*Cl # Pitch (m)\n",
    "\n",
    "# Report\n",
    "if Cl > Cl_lo:\n",
    "    if Cl < Cl_hi:\n",
    "        Cl_report = \"Just Right\"\n",
    "    else:\n",
    "        Cl_report = \"Too Big\"\n",
    "else:\n",
    "    Cl_report = \"Too Small\"\n",
    "    \n",
    "print(\"Circumference of Coil: {:.3f} (m) - {}\".format(Cl, Cl_report))\n",
    "print(\"Pitch Angle: {0:.3f} (rad)\".format(alpha))\n",
    "print(\"Pitch: {0:.3f} (m)\".format(Sl))"
   ]
  },
  {
   "cell_type": "markdown",
   "metadata": {},
   "source": [
    "### Design 6: Four Step Tapered Spiral"
   ]
  },
  {
   "cell_type": "code",
   "execution_count": 60,
   "metadata": {},
   "outputs": [
    {
     "name": "stdout",
     "output_type": "stream",
     "text": [
      "Need to check in on some of these numbers...\n"
     ]
    }
   ],
   "source": [
    "# Driving Parameters\n",
    "n = 16 # Number of Turns\n",
    "r1 = 23.856 # Radii (mm)\n",
    "r2 = 21.688\n",
    "r3 = 20.748\n",
    "r4 = 19.894\n",
    "alpha = 13 # Pitch Angle (deg)\n",
    "\n",
    "# Driven Parameters\n",
    "Cl = 1 # Not sure how to interpret Shiva's numbers\n",
    "alpha = alpha*(pi/180) # Pitch Angle (rad)\n",
    "Sl = math.tan(alpha)*Cl # Pitch (mm)\n",
    "\n",
    "# Estimated Parameters (To Be Verified Experimentally)\n",
    "f_lo = 2.0e9 # Frequency (Hz)\n",
    "f_hi = 2.5e9 # Frequency (Hz)\n",
    "\n",
    "print(\"Need to check in on some of these numbers...\")"
   ]
  },
  {
   "cell_type": "markdown",
   "metadata": {},
   "source": [
    "### Design 7: End Tapered Spiral"
   ]
  },
  {
   "cell_type": "code",
   "execution_count": 61,
   "metadata": {},
   "outputs": [
    {
     "name": "stdout",
     "output_type": "stream",
     "text": [
      "Need to check in on some of these numbers...\n"
     ]
    }
   ],
   "source": [
    "# Driving Parameters\n",
    "n = 16 # Number of Turns\n",
    "r1 = 19.894 # Radii (mm)\n",
    "r2 = 19.085\n",
    "alpha = 13 # Pitch Angle (deg)\n",
    "\n",
    "# Driven Parameters\n",
    "Cl = 1 # Not sure how to interpret Shiva's numbers\n",
    "alpha = alpha*(pi/180) # Pitch Angle (rad)\n",
    "Sl = math.tan(alpha)*Cl # Pitch (mm)\n",
    "\n",
    "# Estimated Parameters (To Be Verified Experimentally)\n",
    "f_lo = 2.4e9 # Frequency (Hz)\n",
    "f_hi = 2.5e9 # Frequency (Hz)\n",
    "\n",
    "print(\"Need to check in on some of these numbers...\")"
   ]
  },
  {
   "cell_type": "markdown",
   "metadata": {},
   "source": [
    "# Constraint & Deployment Mechanisms\n",
    "## Ideas\n",
    "#### Tethers\n",
    "Four long tethers connect the cap to the structure.  They are in tension when the helix is fully extended.  Note that the helix should still be in compression at its fully deployed state in order to maintain tension in the tethers.  This provides lateral rigidity and damps vibrations of the deployed antenna.  Monofilament won't work, check out something like [Filistrand wire](http://www.portablemasts.com.au/debeglass/debe.htm) or something like that.  The tether should probably be fixed to the helix at every pass - i.e. not just at the ends.  \n",
    "#### Wound-Stowage\n",
    "We could potentially stow the antenna in a spiral (as if it was conical) by winding it up around the Z axis.  Then when it deploys it can spring out to its regular conical shape.  Would this potentially relieve (or add to) the strain caused by compression?  If it adds to the strain, could we wind it the other way to relieve the strain...?\n",
    "#### Truncated Cone\n",
    "Adding a conductive cone around the base of the helix will improve its performance.  This can be made of some thin foil or mesh.  Note that the failure of this mechanism would not endanger the mission at all; it is purely for bonus points and should be pursued if we have the time.  The optimal parameters (which would definitely not fit) are as follows:\n",
    "\n",
    "$ D_1 = 0.75 \\lambda $, $ D_2 = 2.5 \\lambda $, $ h = 0.5 \\lambda $\n",
    "\n",
    "In reality, we will either have one of the following:\n",
    "* Static cone that fits in the 17.6 mm space between the end card and the top of the rails.  The large diameter will fit circumscribed inside the rails.\n",
    "* Deployable cone that compresses into the 6.5 mm space on the end cap. The top, larger diameter could be fixed to the tethers and be deployed in the same action as the helix.  \n",
    "## Contingency Ideas\n",
    "These are not ideas to pursue - rather, these are ideas that might be able to get us out of a bind.\n",
    "#### Quadrifilar Support Helix\n",
    "The second helix in a quadrifilar design could be made out of a more resilient, non-conductive material to provide more deployment force.  Connecting the two helices at their ends would improve rigidity.\n",
    "#### External Support Helix\n",
    "Similar to the above idea.  The support helix could have a much larger diameter - again, out of more resilient, non-conductive material.  This would alleviate potential issues caused by too much strain being put on the helix (as a compression spring). \n",
    "## Considerations\n",
    "- [Stress relaxation](https://en.wikipedia.org/wiki/Stress_relaxation) needs to be considered if we're relying on the helix as a compression spring.  The helix can be made longer than needed and heat treated to avoid potential issues.\n",
    "- Burn wires should be used in a way that does not subject them to excessive vibration loads.  They can be rigged up in a way that avoids unnecessary additional stress.  We do not want them to prematurely deploy or be any stronger than needed.\n",
    "    - Example: The wire is wrapped around the circumference of the helix, restraining four hinged mechanisms loaded with torsion springs.  Vibrations causing lateral deformation should be uniform (i.e. all mechanisms should be displaced in the same direction at once) which should not put any additional stress on the burn wire. See Figure 10 of [this paper](https://drive.google.com/open?id=1MxdJtdwylCSzvwULur7TAVtvX_Ytf-ux)."
   ]
  },
  {
   "cell_type": "markdown",
   "metadata": {},
   "source": [
    "# Design Decisions\n",
    "## Abandoned Ideas\n",
    "#### Tennis Ball Canister Lid\n",
    "The helix is compressed by a 'lid' that is tied down to the structure by burn wire.  Given the fact that we don't want to: obscure the camera's view; add unnecessary weight... I (Calvin) don't really see the point of using a cap - the tethers can be attached directly to the antenna (at each pass or just at the terminus).  \n"
   ]
  },
  {
   "cell_type": "markdown",
   "metadata": {},
   "source": [
    "# References\n",
    "Most equations from the ARRL Antenna Book."
   ]
  }
 ],
 "metadata": {
  "kernelspec": {
   "display_name": "Python 3",
   "language": "python",
   "name": "python3"
  },
  "language_info": {
   "codemirror_mode": {
    "name": "ipython",
    "version": 3
   },
   "file_extension": ".py",
   "mimetype": "text/x-python",
   "name": "python",
   "nbconvert_exporter": "python",
   "pygments_lexer": "ipython3",
   "version": "3.6.3"
  }
 },
 "nbformat": 4,
 "nbformat_minor": 2
}
