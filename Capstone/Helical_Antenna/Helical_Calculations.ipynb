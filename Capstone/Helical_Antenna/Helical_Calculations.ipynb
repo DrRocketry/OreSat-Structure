{
 "cells": [
  {
   "cell_type": "markdown",
   "metadata": {
    "collapsed": true
   },
   "source": [
    "# Antenna Design Calculations\n",
    "#### RF Characteristics\n",
    "The operating frequency is defined by the WiFi Channel 802.11b standard.\n",
    "\n",
    "$ Frequency\\ (GHz): f = 2.412 $\n",
    "\n",
    "$ Wavelength\\ (m): \\lambda = \\frac{c}{f} $"
   ]
  },
  {
   "cell_type": "code",
   "execution_count": 1,
   "metadata": {},
   "outputs": [
    {
     "name": "stdout",
     "output_type": "stream",
     "text": [
      "Variable    Symbol       Value  Unit\n",
      "----------  --------  --------  ------\n",
      "Frequency   f         2.412000  GHz\n",
      "Wavelength  lamb      0.124292  m\n"
     ]
    }
   ],
   "source": [
    "import math\n",
    "from tabulate import tabulate\n",
    "\n",
    "# Constants\n",
    "c = 299792458\n",
    "f = 2.412e9\n",
    "\n",
    "# Calculations\n",
    "lamb = c/f\n",
    "\n",
    "# Print Table\n",
    "table = []\n",
    "headers = [\"Variable\", \"Symbol\", \"Value\", \"Unit\"]\n",
    "table.append([\"Frequency\", \"f\", f/1e9, \"GHz\"])\n",
    "table.append([\"Wavelength\", \"lamb\", lamb, \"m\"])\n",
    "print(tabulate(table, headers, floatfmt=\".6f\"))"
   ]
  },
  {
   "cell_type": "markdown",
   "metadata": {},
   "source": [
    "#### Helical Antenna Parameters\n",
    "The antenna's gain is a function of the number of turns in the helix.  The desired number will depend on experimental results, but a good starting point is 16.  The helix radius and pitch angle ($ 11 < r < 14 $ degrees optimal, according to Shiva) are based on MATLAB simulations that ensure the resultant parameters stay within the prescribed bounds.  \n",
    "\n",
    "$ Number\\ of\\ Turns: n = 16 $\n",
    "\n",
    "$ Radius\\ (m): r = 0.019894 $\n",
    "\n",
    "$ Pitch\\ Angle\\ (rad): \\alpha = 0.226893 $\n",
    "\n",
    "Basic design parameters are calculated using equations found in Chapter *X* of the ARRL Antenna Handbook.  It is recommended to keep the helix circumference within $ 0.75 \\lambda < C_\\lambda < 1.33 \\lambda $ and the pitch between $ 0.2126 C_\\lambda < S_\\lambda < 0.2867 C_\\lambda $.  These values will be checked in the code below.  \n",
    "\n",
    "$ Circumference\\ (m): C_\\lambda = 2\\pi r $\n",
    "\n",
    "$ Pitch\\ (m): S_\\lambda = C_\\lambda tan (\\alpha) $\n",
    "\n",
    "With these parameters defined, theoretical values for the gain are calculated.  A target gain of $ G \\simeq 16 $ is desired.\n",
    "\n",
    "$ Gain\\ (dBi) = 11.8 + 10 \\log(2 n C_\\lambda S_\\lambda) $\n",
    "\n",
    "*Note: Something must be wrong with this equation - it is spitting out terrible numbers.*"
   ]
  },
  {
   "cell_type": "code",
   "execution_count": 3,
   "metadata": {},
   "outputs": [
    {
     "name": "stdout",
     "output_type": "stream",
     "text": [
      "Variable       Symbol        Value  Unit\n",
      "-------------  --------  ---------  ------\n",
      "Turns          n         16.000000  -\n",
      "Radius         r          0.019894  m\n",
      "Pitch Angle    alpha      0.226893  rad\n",
      "Circumference  C_lamb     0.124998  m\n",
      "Pitch          S_lamb     0.028858  m\n",
      "Gain           G         -9.790916  dBi\n",
      "\n",
      "WARNING: Gain is short by 25.791 dBi!\n"
     ]
    }
   ],
   "source": [
    "# Constants\n",
    "n = 16\n",
    "r = 0.019894\n",
    "alpha = 0.226893\n",
    "G_target = 16\n",
    "\n",
    "# Calculations\n",
    "C_lamb = 2*math.pi*r\n",
    "C_lamb_lo = 0.75*lamb\n",
    "C_lamb_hi = 1.33*lamb\n",
    "S_lamb = math.tan(alpha)*C_lamb\n",
    "G = 11.8 + 10*math.log(2*n*C_lamb*S_lamb)\n",
    "\n",
    "# Print Table\n",
    "table = []\n",
    "table.append([\"Turns\", \"n\", n, \"-\"])\n",
    "table.append([\"Radius\", \"r\", r, \"m\"])\n",
    "table.append([\"Pitch Angle\", \"alpha\", alpha, \"rad\"])\n",
    "table.append([\"Circumference\", \"C_lamb\", C_lamb, \"m\"])\n",
    "table.append([\"Pitch\", \"S_lamb\", S_lamb, \"m\"])\n",
    "table.append([\"Gain\", \"G\", G, \"dBi\"])\n",
    "print(tabulate(table, headers, floatfmt=\".6f\"))\n",
    "\n",
    "# Check Results\n",
    "if C_lamb < C_lamb_lo or C_lamb > C_lamb_hi:\n",
    "    print(\"\\nWARNING: Circumference is out of spec!\")\n",
    "if S_lamb < 0.2126*C_lamb or S_lamb > 0.2867*C_lamb:\n",
    "    print(\"\\nWARNING: Pitch is out of spec!\")\n",
    "if G < G_target:\n",
    "    print(\"\\nWARNING: Gain is short by {:.3f} dBi!\".format(G_target - G))"
   ]
  },
  {
   "cell_type": "markdown",
   "metadata": {},
   "source": [
    "# Spring Design Calculations\n",
    "#### Dimensional Parameters\n",
    "Wire thickness has little effect on the RF characteristics of the antenna and will be chosen based on mechanical constraints.  \n",
    "It is recommended to use wire diameters between $ 0.006 \\lambda < d < 0.05 \\lambda $.  Wire thicknesses below the minimum suggested value are possible but ought to be tested.  A range of reasonable wire gauges is presented in the table below.\n",
    "\n",
    "\\begin{array}{ l l }\n",
    "\\hline AWG & Diameter\\ (mm) \\\\\\hline\n",
    "  18 & 1.024 \\\\\\hline\n",
    "  19 & 0.912 \\\\\\hline\n",
    "  20 & 0.812 \\\\\\hline\n",
    "  21 & 0.723 \\\\\\hline\n",
    "  22 & 0.644 \\\\\\hline\n",
    "  23 & 0.573 \\\\\\hline\n",
    "  24 & 0.511 \\\\\\hline\n",
    "\\end{array}\n",
    "\n",
    "This analysis will focus on 20 AWG but a range of values ought to be tested.\n",
    "\n",
    "$ Wire\\ Thickness\\ (m): d = 0.000812 $\n",
    "\n",
    "With that wire thickness defined, the rest of the spring's dimensional parameters are defined.\n",
    "\n",
    "$ Mean\\ Coil\\ Diameter\\ (m): D = 2r $\n",
    "\n",
    "$ Outer\\ Coil\\ Diameter\\ (m): D_o = D + d $\n",
    "\n",
    "$ Inner\\ Coil\\ Diameter\\ (m): D_i = D - d $\n",
    "\n",
    "$ Pitch\\ (m): p = S_\\lambda $\n",
    "\n",
    "The ratio of the spring's mean diameter to its wire thickness is defined as the spring index.  Suggested values are in the range of $ 4 < C_i < 12 $ yet the only cited downside for exceeding the maximum value is an increased tendency of the spring to become tangled.\n",
    "\n",
    "$ Spring\\ Index: C_i = \\frac{D}{d} $\n",
    "\n"
   ]
  },
  {
   "cell_type": "code",
   "execution_count": 7,
   "metadata": {
    "scrolled": true
   },
   "outputs": [
    {
     "name": "stdout",
     "output_type": "stream",
     "text": [
      "Variable        Symbol        Value  Unit\n",
      "--------------  --------  ---------  ------\n",
      "Wire Thickness  d          0.000812  m\n",
      "Mean Diameter   D          0.039788  m\n",
      "Outer Diameter  D_o        0.040600  m\n",
      "Inner Diameter  D_i        0.038976  m\n",
      "Pitch           p          0.028858  m\n",
      "Spring Index    C_i       49.000000  -\n",
      "\n",
      "WARNING: Spring index is out of spec!\n"
     ]
    }
   ],
   "source": [
    "# Constants\n",
    "d = 0.812/1e3\n",
    "\n",
    "# Calculations\n",
    "D = 2*r\n",
    "D_o = D + d\n",
    "D_i = D - d\n",
    "p = S_lamb\n",
    "C_i = D/d\n",
    "C_i_lo = 4\n",
    "C_i_hi = 12\n",
    "\n",
    "# Print Table\n",
    "table = []\n",
    "table.append([\"Wire Thickness\", \"d\", d, \"m\"])\n",
    "table.append([\"Mean Diameter\", \"D\", D, \"m\"])\n",
    "table.append([\"Outer Diameter\", \"D_o\", D_o, \"m\"])\n",
    "table.append([\"Inner Diameter\", \"D_i\", D_i, \"m\"])\n",
    "table.append([\"Pitch\", \"p\", p, \"m\"])\n",
    "table.append([\"Spring Index\", \"C_i\", C_i, \"-\"])\n",
    "print(tabulate(table, headers, floatfmt=\".6f\"))\n",
    "\n",
    "# Check Results\n",
    "if C_i < C_i_lo or C_i > C_i_hi:\n",
    "    print(\"\\nWARNING: Spring index is out of spec!\")"
   ]
  },
  {
   "cell_type": "markdown",
   "metadata": {},
   "source": [
    "#### Material Properties\n",
    "Further analysis requires the specification of a material.  Beryllium copper has been chosen for its excellent electrical properties and common use as a spring material.  Actual tensile strengths of wire are highly depended on wire thickness and it is not wise to use generic material property values when dealing with such fine dimensions.  Table 10-5 in Chapter 10-6 of Shigley's  Mechanical Engineering Design lists values for beryllium copper wire.\n",
    "\n",
    "$ Modulus\\ of\\ Elasticity\\ (GPa): E = 117.2 $\n",
    "\n",
    "$ Shear\\ Modulus\\ of\\ Elasticity\\ (GPa): G = 44.8 $\n",
    "\n",
    "#### Static Loading Conditions\n",
    "The stowed antenna must compress to less than 6 mm (or 17.6 mm if needed).  Unless it is wound and compressed flat (see *Wound Stowage* in the Helical Design notebook), the spring will be compressed to solid length prior to deployment.  Its \"free length\" will be the length to which it is fully deployed - more on this later.  \n",
    "\n",
    "$ Free\\ Length\\ (m): L_0 = pn + d $\n",
    "\n",
    "$ Solid\\ Length\\ (m): L_s = d(n + 1) $\n",
    "\n",
    "The deflection of the spring is calculated as the difference between these lengths.\n",
    "\n",
    "$ Deflection\\ (m): y = L_0 - L_s $\n",
    "\n",
    "With this defined, the force exterted by the fully compressed spring is calculated as function of the spring rate.\n",
    "\n",
    "$ Spring\\ Rate\\ (N/m): k = \\frac{d^4 G}{8D^3 n} $\n",
    "\n",
    "$ Spring\\ Force\\ (N): F = ky $"
   ]
  },
  {
   "cell_type": "code",
   "execution_count": 10,
   "metadata": {},
   "outputs": [
    {
     "name": "stdout",
     "output_type": "stream",
     "text": [
      "Variable         Symbol         Value  Unit\n",
      "---------------  --------  ----------  ------\n",
      "Young's Modulus  E         117.200000  GPa\n",
      "Shear Modulus    G          44.800000  GPa\n",
      "Free Length      L_0         0.462540  m\n",
      "Solid Length     L_s         0.013804  m\n",
      "Deflection       y           0.448736  m\n",
      "Spring Rate      k           2.415660  N/m\n",
      "Spring Force     F           1.083994  N\n",
      "\n",
      "The compressed length is too large for the end cap but will fit in the end card.\n"
     ]
    }
   ],
   "source": [
    "# Constants\n",
    "E = 117.2*1e9\n",
    "G = 44.8*1e9\n",
    "z_1 = 0.006\n",
    "z_2 = 0.017\n",
    "\n",
    "# Calculations\n",
    "L_0 = p*n + d\n",
    "L_s = d*(n+1)\n",
    "y = L_0 - L_s\n",
    "k = (d**4*G)/(8*D**3*n)\n",
    "F = k*y\n",
    "\n",
    "table = []\n",
    "table.append([\"Young's Modulus\", \"E\", E/1e9, \"GPa\"])\n",
    "table.append([\"Shear Modulus\", \"G\", G/1e9, \"GPa\"])\n",
    "table.append([\"Free Length\", \"L_0\", L_0, \"m\"])\n",
    "table.append([\"Solid Length\", \"L_s\", L_s, \"m\"])\n",
    "table.append([\"Deflection\", \"y\", y, \"m\"])\n",
    "table.append([\"Spring Rate\", \"k\", k, \"N/m\"])\n",
    "table.append([\"Spring Force\", \"F\", F, \"N\"])\n",
    "print(tabulate(table, headers, floatfmt=\".6f\"))\n",
    "\n",
    "if L_s > z_1:\n",
    "    if L_s > z_2:\n",
    "        print(\"\\nWARNING: The compressed length is too large for the end card - coil must be wound!\")\n",
    "    else:\n",
    "        print(\"\\nThe compressed length is too large for the end cap but will fit in the end card.\")"
   ]
  },
  {
   "cell_type": "markdown",
   "metadata": {},
   "source": [
    "####  Stress Analysis\n",
    "The maximum shear stress of a spring is calculated using either one of two correction factors.  The shear stress correction factor is recommended for static applications.  The curvature correction factor is generally ignored for static applications since \"any localized yielding leads to localized strain strengthening.\"  However, this seems like an important factor to consider so it will be used instead of the shear stress correction factor.\n",
    "\n",
    "$ Curvature\\ Correction\\ Factor = K_B = \\frac{4C_i+2}{4C_i-3} $ \n",
    "\n",
    "$ Maximum\\ Shear\\ Stress\\ (GPa?) = \\tau = K_B \\frac{8FD}{\\pi d^3} $\n",
    "\n",
    "*Note: This equation needs to be checked.  Haven't made sure the units are consistent and that the results make sense.*"
   ]
  },
  {
   "cell_type": "code",
   "execution_count": 13,
   "metadata": {},
   "outputs": [
    {
     "name": "stdout",
     "output_type": "stream",
     "text": [
      "Variable                     Symbol       Value  Unit\n",
      "---------------------------  --------  --------  ------\n",
      "Curvature Correction Factor  K_B       1.025907  -\n",
      "Largest Shear Stress         tau       0.210455  GPa?\n"
     ]
    }
   ],
   "source": [
    "# Calculations\n",
    "K_B = (4*C_i + 2)/(4*C_i - 3)\n",
    "tau = K_B*((8*F*D)/(math.pi*d**3))\n",
    "\n",
    "# Print Table\n",
    "table = []\n",
    "table.append([\"Curvature Correction Factor\", \"K_B\", K_B, \"-\"])\n",
    "table.append([\"Largest Shear Stress\", \"tau\", tau/1e9, \"GPa?\"])\n",
    "print(tabulate(table, headers, floatfmt=\".6f\"))"
   ]
  },
  {
   "cell_type": "markdown",
   "metadata": {},
   "source": [
    "# Next Steps / Unfinished Business\n",
    "#### Sanity Check\n",
    "Are these values insane?  Can we expect a spring to expand to these dimensions after being compressed so severely?  Look at the maximum shear stress and check against the material properties.\n",
    "\n",
    "#### Stress Analysis\n",
    "Let's incorporate a factor of safety (is that necessary at this point?) and look at the bending stresses caused by winding the spring into a spiral (see *Wound Stowage* in the Helical Design notebook).  If those stresses seem reasonable then we will need to adjust the deflection to calculate the stresses of a flat-packed spring. \n",
    "\n",
    "See Shigley, Chapter 3.8 for details on the shear modulus of elasticity.\n",
    "\n",
    "Do we need to worry about residual stresses?  \"Winding of the spring induces residual stresses through bending, but these are normal to the direction of the torsional working stresses in a coil spring.  Quite frequently in spring manufacture, they are relieved, after winding, by a mild thermal treatment.\"\n",
    "\n",
    "How about stress relaxation?  Shiva is going to consult some faculty and look into this...\n",
    "\n",
    "#### Set Removal\n",
    "We'll want to design the spring to be nominally longer than desired so that it will rebound to its desired length after being fully compressed.  \"If the stress at the solid height is greater than 1.3 times the torsional yield strength, distortion may occur.  If this stress is much less than 1.1 times, it is difficult to control the resulting free length.\"\n",
    "\n",
    "#### Buckling\n",
    "Is this going to be an issue with tethers supporting each coil?  Let's do some static analysis and look into it...\n",
    "\n",
    "#### Manufacturing Parameters\n",
    "Once all of this is done we can start calculating the manufacturing parameters.  If we're going to be prototyping our own springs on a lathe (see *Lathe* in the Helical Design notebook) then we'll need to know a few things, like the mandrel diameter (since it will relax to a wider diameter).  \n",
    "\n",
    "#### Random Stuff\n",
    "Here are some random equations that I noted since they might be of use...\n",
    "\n",
    "$ Potential\\ Energy\\ (Nm): U = \\frac{1}{2} kx^2 $\n",
    "\n",
    "$ Strain\\ Energy\\ (Pa?): U = \\frac{4F^2 D^3 n}{d^4 G} + \\frac{2F^2 Dn}{d^2 G} $\n",
    "\n",
    "$ Ultimage\\ Tensile\\ Strength\\ (?): S_ut = \\frac{A}{d^m} $\n",
    "\n",
    "Table 10-4 (kpsi)\n",
    "when d is mm, A is MPa * mm^m\n",
    "\n",
    "$ Elastic\\ Limit\\ in\\ Torsion\\ (?): 0.5S_ut $\n",
    "\n",
    "Generally, only yield strength is measured.  Torsional yield strength is needed for design... S_sy = 0.577 S_y\n",
    "\n",
    "Maximum Allowable Torsional Stress (as Percent of Tensile Strength)\n",
    "\n",
    "Before Set Removal (includes K_w or K_B): 35\n",
    "\n",
    "After Set Removal (includes K_s): 55-65\n",
    "\n",
    "#### Ground Plane / Cone Calculations\n",
    "The ground plane diameter is bound by $ 0.8 \\lambda < D < 1.1 \\lambda $.  Exceeding the upper limit increases sidelobe levels resulting in less clean radiation patterns (avoid conflicting variable names)\n",
    "\n",
    "#### Notebook Improvements\n",
    "Potentially add the results to the markdown cells (see [this method](https://stackoverflow.com/questions/18878083/can-i-use-variables-on-an-ipython-notebook-markup-cell) for details)."
   ]
  }
 ],
 "metadata": {
  "kernelspec": {
   "display_name": "Python 3",
   "language": "python",
   "name": "python3"
  },
  "language_info": {
   "codemirror_mode": {
    "name": "ipython",
    "version": 3
   },
   "file_extension": ".py",
   "mimetype": "text/x-python",
   "name": "python",
   "nbconvert_exporter": "python",
   "pygments_lexer": "ipython3",
   "version": "3.6.4"
  }
 },
 "nbformat": 4,
 "nbformat_minor": 2
}
