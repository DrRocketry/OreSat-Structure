{
 "cells": [
  {
   "cell_type": "markdown",
   "metadata": {
    "collapsed": true
   },
   "source": [
    "# Helical Antenna Design\n",
    "\n",
    "## Constants\n",
    "$λ = Wavelength = \\frac{c}{f} = \\frac{299,792,458\\ m/s}{2.412\\ GHz} = 0.1242\\ m $ (WiFi Channel 802.11b)\n",
    "## Design Variables\n",
    "$C_λ =  Circumference\\ of\\ Coil\\ (m) $\n",
    "\n",
    "$D =  Ground\\ Plane\\ Diameter\\ (m) $\n",
    "\n",
    "$S_λ = Pitch\\ (m) $\n",
    "\n",
    "$d = Wire\\ Diameter\\ (m) $\n",
    "\n",
    "$n = Number\\ of\\ Turns\\ $\n",
    "\n",
    "$α = Pitch\\ Angle\\ (rad[?]) $\n",
    "## Design Parameters\n",
    "$0.75 λ < C_λ < 1.33 λ$\n",
    "\n",
    "$0.8 λ < D < 1.1 λ$\n",
    "\n",
    "$0.2126 C_λ < S_λ < 0.2867 C_λ$\n",
    "\n",
    "$0.006 λ < d < 0.05 λ$\n",
    "\n",
    "$n > 3$\n",
    "\n",
    "## Dependent Variables\n",
    "$α = arctan \\frac{S_λ}{C_λ}$\n",
    "\n",
    "$ Axial\\ Ratio = \\frac{2n+1}{2n} $ (Should be between 1 and 1.1)\n",
    "\n",
    "$ Gain\\ (dBi) = 11.8 + 10 \\log(2 n C_λ S_λ) $\n",
    "## Design Considerations\n",
    "- The helix should terminate as close as possible to the groundplane.\n",
    "- The bandwidth should be approximately ± 12 GHz\n",
    "\n",
    "## Design Constraints\n",
    "- The stowed antenna must fit within 6 mm of the endcap (or 17.6 mm from the endcard).\n"
   ]
  },
  {
   "cell_type": "markdown",
   "metadata": {},
   "source": [
    "# Calculations"
   ]
  },
  {
   "cell_type": "code",
   "execution_count": 3,
   "metadata": {},
   "outputs": [
    {
     "name": "stdout",
     "output_type": "stream",
     "text": [
      "Circumference of Coil: Between 0.093 and 0.165 (m)\n"
     ]
    }
   ],
   "source": [
    "# Let's Run (Python) Code Here! \n",
    "# For Example...\n",
    "\n",
    "# Constants\n",
    "c = 299792458\n",
    "f = 2.412e9\n",
    "l = c/f\n",
    "\n",
    "# Design Variables\n",
    "Cl_lo = 0.75*l\n",
    "Cl_hi = 1.33*l\n",
    "\n",
    "# Print\n",
    "print(\"Circumference of Coil: Between {:.3f} and {:.3f} (m)\".format(Cl_lo, Cl_hi))"
   ]
  },
  {
   "cell_type": "markdown",
   "metadata": {},
   "source": [
    "# Deployment Mechanisms\n",
    "## Canister Lid\n",
    "### Considerations\n",
    "- The helix is compressed by a cap which is tied down to the structure.  \n",
    "\n",
    "- Four long tethers connect the cap to the structure.  They are in tension when the helix is fully extended and they provide lateral rigidity to the deployed antenna.\n",
    "\n",
    "- The lid itself should be annular and as invisible as possible to a potential visible-light camera that would be looking down the axis of the antenna."
   ]
  },
  {
   "cell_type": "markdown",
   "metadata": {},
   "source": [
    "# References\n",
    "All equations from the ARRL Antenna Book."
   ]
  }
 ],
 "metadata": {
  "kernelspec": {
   "display_name": "Python 3",
   "language": "python",
   "name": "python3"
  },
  "language_info": {
   "codemirror_mode": {
    "name": "ipython",
    "version": 3
   },
   "file_extension": ".py",
   "mimetype": "text/x-python",
   "name": "python",
   "nbconvert_exporter": "python",
   "pygments_lexer": "ipython3",
   "version": "3.6.3"
  }
 },
 "nbformat": 4,
 "nbformat_minor": 2
}
