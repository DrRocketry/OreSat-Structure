{
 "cells": [
  {
   "cell_type": "markdown",
   "metadata": {
    "collapsed": true
   },
   "source": [
    "# Helical Antenna Design\n",
    "\n",
    "## Constants\n",
    "$\\lambda = Wavelength = \\frac{c}{f} = \\frac{299,792,458\\ m/s}{2.412\\ GHz} = 0.1242\\ m $ (WiFi Channel 802.11b)\n",
    "## Design Variables\n",
    "$C_\\lambda =  Circumference\\ of\\ Coil\\ (m) $\n",
    "\n",
    "$D =  Ground\\ Plane\\ Diameter\\ (m) $\n",
    "\n",
    "$S_\\lambda = Pitch\\ (m) $\n",
    "\n",
    "$d = Wire\\ Diameter\\ (m) $\n",
    "\n",
    "$n = Number\\ of\\ Turns$\n",
    "\n",
    "$\\alpha = Pitch\\ Angle\\ (rad[?]) $\n",
    "## Design Parameters\n",
    "$0.75 \\lambda < C_\\lambda < 1.33 \\lambda$\n",
    "\n",
    "$0.8 \\lambda < D < 1.1 \\lambda$ (Exceeding the upper limit increases sidelobe levels resulting in less clean radiation patterns)\n",
    "\n",
    "$0.2126 C_\\lambda < S_\\lambda < 0.2867 C_\\lambda$\n",
    "\n",
    "$0.006 \\lambda < d < 0.05 \\lambda$ (Smaller diameters are possible, just wanna make sure and test)\n",
    "\n",
    "$n > 3$\n",
    "\n",
    "## Dependent Variables\n",
    "$\\alpha = arctan \\frac{S_\\lambda}{C_\\lambda}$\n",
    "\n",
    "$ Axial\\ Ratio = \\frac{2n+1}{2n} $ (Should be between 1 and 1.1)\n",
    "\n",
    "$ Gain\\ (dBi) = 11.8 + 10 \\log(2 n C_\\lambda S_\\lambda) $\n",
    "## Design Considerations\n",
    "- The helix should terminate as close as possible to the groundplane.\n",
    "- The bandwidth should be approximately +/- 12 GHz\n",
    "\n",
    "## Design Constraints\n",
    "- The stowed antenna must fit within 6 mm of the endcap (or 17.6 mm from the endcard).\n",
    "\n",
    "## Calculations"
   ]
  },
  {
   "cell_type": "code",
   "execution_count": 3,
   "metadata": {},
   "outputs": [
    {
     "name": "stdout",
     "output_type": "stream",
     "text": [
      "Design Parameters:\n",
      "Circumference of Coil: Between 0.093 and 0.165 (m)\n"
     ]
    }
   ],
   "source": [
    "# Let's Run (Python) Code Here! \n",
    "# For Example...\n",
    "\n",
    "# Constants\n",
    "c = 299792458\n",
    "f = 2.412e9\n",
    "l = c/f\n",
    "\n",
    "# Design Parameters\n",
    "Cl_lo = 0.75*l\n",
    "Cl_hi = 1.33*l\n",
    "\n",
    "# Print\n",
    "print(\"Design Parameters:\")\n",
    "print(\"Circumference of Coil: Between {:.3f} and {:.3f} (m)\".format(Cl_lo, Cl_hi))"
   ]
  },
  {
   "cell_type": "markdown",
   "metadata": {},
   "source": [
    "# Constraint & Deployment Mechanisms\n",
    "## Considerations\n",
    "- If the helix is compressed and held in place by a cap then it should be annular and as invisible as possible to a potential visible-light camera that might be looking down the axis of the antenna.\n",
    "\n",
    "- [Stress relaxation](https://en.wikipedia.org/wiki/Stress_relaxation) needs to be considered if we're relying on the helix as a compression spring.  The helix can be made longer than needed and heat treated to avoid potential issues.\n",
    "\n",
    "- Burn wires should be used in a way that does not subject them to vibration loads; we do not want them to prematurely deploy or be any stronger than needed.\n",
    "    - Example: The wire is wrapped around the circumference of the helix, restraining four hinged mechanisms loaded with torsion springs.  Vibrations causing lateral deformation should be uniform (i.e. all mechanisms should be displaced in the same direction at once) which should not put any additional stress on the burn wire. See Figure 10 of [this paper](https://drive.google.com/open?id=1MxdJtdwylCSzvwULur7TAVtvX_Ytf-ux).\n",
    "\n",
    "## Ideas\n",
    "#### Tethers\n",
    "Four long tethers connect the cap to the structure.  They are in tension when the helix is fully extended.  This provides lateral rigidity and damps vibrations of the deployed antenna.  Note that the helix should still be in compression at its fully deployed state in order for this design to be most effective.  Monofilament won't work, check out something like [Filistrand wire](http://www.portablemasts.com.au/debeglass/debe.htm) or something like that.\n",
    "#### ~~Tennis Ball Canister Lid~~\n",
    "~~The helix is compressed by a 'lid' that is tied down to the structure by burn wire.~~  Given the fact that we don't want to: obscure the camera's view; add unnecessary weight... I (Calvin) don't really see the point of using a cap - the tethers can be attached directly to the antenna (at each pass or just at the terminus).  \n",
    "\n",
    "## Contingency Ideas\n",
    "These are not ideas to pursue - rather, these are ideas that might be able to get us out of a bind.\n",
    "\n",
    "#### Quadrifilar Support Helix\n",
    "The second helix in a quadrifilar design could be made out of a more resilient, non-conductive material to provide more deployment force.  Connecting the two helices at their ends would improve rigidity.\n",
    "\n",
    "#### External Support Helix\n",
    "Similar to the above idea.  The support helix could have a much larger diameter - again, out of more resilient, non-conductive material.  This would alleviate potential issues caused by too much strain being put on the helix (as a compression spring). \n",
    "\n",
    "# Auxiliary Mechanisms\n",
    "#### Truncated Cone\n",
    "Adding a conductive cone around the base of the helix will improve its performance.  This can be made of some thin, mylar-type material.  It can be compressed and deployed on a separate system so as to not interfere with the antenna itself.  Note that the failure of this mechanism would not endanger the mission at all; it is purely for bonus points and should be pursued if we have the time.  The optimal parameters (which would definitely not fit) are as follows:\n",
    "\n",
    "$ D_1 = 0.75 \\lambda $\n",
    "\n",
    "$ D_2 = 2.5 \\lambda $\n",
    "\n",
    "$ h = 0.5 \\lambda $\n",
    "\n",
    "In reality, we will either have one of the following:\n",
    "* Static cone that fits in the 17.6 mm space between the end card and the top of the rails.  The large diameter will fit circumscribed inside the rails.\n",
    "* Deployable cone that compresses into the 6.5 mm space on the end cap. "
   ]
  },
  {
   "cell_type": "markdown",
   "metadata": {},
   "source": [
    "# References\n",
    "Most equations from the ARRL Antenna Book."
   ]
  }
 ],
 "metadata": {
  "kernelspec": {
   "display_name": "Python 3",
   "language": "python",
   "name": "python3"
  },
  "language_info": {
   "codemirror_mode": {
    "name": "ipython",
    "version": 3
   },
   "file_extension": ".py",
   "mimetype": "text/x-python",
   "name": "python",
   "nbconvert_exporter": "python",
   "pygments_lexer": "ipython3",
   "version": "3.6.3"
  }
 },
 "nbformat": 4,
 "nbformat_minor": 2
}
