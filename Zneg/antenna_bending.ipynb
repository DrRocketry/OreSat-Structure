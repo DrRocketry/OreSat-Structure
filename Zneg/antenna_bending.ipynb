{
 "cells": [
  {
   "cell_type": "markdown",
   "metadata": {},
   "source": [
    "This is a back-of-the-envelope calculation on the bending radius for the antennas on the -Z face.\n",
    "\n",
    "First, a little re-justification of the bending radius formula:  \n",
    "$\\rho$= bending radius  \n",
    "$y$= distance from neutral axis  \n",
    "$\\epsilon$= strain  \n",
    "$L$= wire length  \n",
    "$\\theta$= angle along the wire  \n",
    "$\\sigma_y$= stress  \n",
    "$E$= modulus of elasticity  \n",
    "$D$= wire diameter  \n",
    "\n",
    "$r=\\rho+y$  \n",
    "$dL=rd\\theta$  \n",
    "$dL_0=\\rho d\\theta$  \n",
    "\n",
    "$\\epsilon = \\frac{dL}{dL_0}-1$  \n",
    "$\\epsilon = \\frac{rd\\theta}{\\rho d\\theta}-1$  \n",
    "$\\epsilon = \\frac{\\rho+y}{\\rho}-1$  \n",
    "$\\epsilon = \\frac{y}{\\rho}$  \n",
    "$\\rho_y = \\frac{y}{\\sigma_y}$  ($y$ subscript referrs to yield)  \n",
    "$\\pmb{\\rho_y = \\frac{DE}{2\\sigma_y}}$ \n",
    "\n",
    "Since this is an Eulerian model, it's only valid when $\\rho\\gg D$. So, if we get $\\rho_y\\leq 10D$, we should be suspicious of the answer and either use a more complicated model or add a hefty factor of safety. "
   ]
  },
  {
   "cell_type": "code",
   "execution_count": 1,
   "metadata": {
    "collapsed": true
   },
   "outputs": [],
   "source": [
    "def minBendingRadius(D, E, yield_stress):\n",
    "    return(D*E/(2*yield_stress))"
   ]
  },
  {
   "cell_type": "markdown",
   "metadata": {},
   "source": [
    "For the Beryllium Copper (BeCu) listed [here](http://www.lfa-wire.com/heat-treatable-and-tempered_alloy-10_c17500-alloy-3_c17510.htm), we get the following for a 1 mm diameter wire."
   ]
  },
  {
   "cell_type": "code",
   "execution_count": 2,
   "metadata": {
    "collapsed": false
   },
   "outputs": [
    {
     "data": {
      "text/plain": [
       "'4.821E-03'"
      ]
     },
     "execution_count": 2,
     "metadata": {},
     "output_type": "execute_result"
    }
   ],
   "source": [
    "\"%.3E\" % minBendingRadius(D=0.0001, E=13.5E9, yield_stress=140.0E6)"
   ]
  },
  {
   "cell_type": "markdown",
   "metadata": {},
   "source": [
    "Using [this](http://www.matweb.com/search/DataSheet.aspx?MatGUID=9b159fd901454263b8a90c22a66f1988) BeCu, we get:"
   ]
  },
  {
   "cell_type": "code",
   "execution_count": 3,
   "metadata": {
    "collapsed": false
   },
   "outputs": [
    {
     "data": {
      "text/plain": [
       "'2.602E-01'"
      ]
     },
     "execution_count": 3,
     "metadata": {},
     "output_type": "execute_result"
    }
   ],
   "source": [
    "\"%.3E\" % minBendingRadius(D=0.001, E=115.0E9, yield_stress=221.0E6)"
   ]
  },
  {
   "cell_type": "markdown",
   "metadata": {},
   "source": [
    "So, the design of the deployment mechanism kind of depends on the material choice. We have a lot more options with a 4.8 cm bending radius than with a 26 cm bending radius. "
   ]
  },
  {
   "cell_type": "markdown",
   "metadata": {},
   "source": [
    "For [stainless steel wire](http://www.matweb.com/search/DataSheet.aspx?MatGUID=2c4221a8202b4184b97784ddc532d579):"
   ]
  },
  {
   "cell_type": "code",
   "execution_count": 4,
   "metadata": {
    "collapsed": false
   },
   "outputs": [
    {
     "data": {
      "text/plain": [
       "'9.741E-02'"
      ]
     },
     "execution_count": 4,
     "metadata": {},
     "output_type": "execute_result"
    }
   ],
   "source": [
    "\"%.3E\" % minBendingRadius(D=0.0016, E=193.0E9, yield_stress=1585.0E6)"
   ]
  },
  {
   "cell_type": "markdown",
   "metadata": {
    "collapsed": true
   },
   "source": [
    "Anything between 15 an 65 degrees from the plane is cool. "
   ]
  },
  {
   "cell_type": "markdown",
   "metadata": {},
   "source": [
    "The design we're going with as v0.1 is 0.1 mm BeCu wire, with a base 1 cm in from each edge, 15 degrees up from the plane, same spiral design as in the v0.5 model. "
   ]
  },
  {
   "cell_type": "markdown",
   "metadata": {},
   "source": [
    "C172 seems to be the alloy of copper we're looking for. Maybe I can find something that actually specifies what the different tempers mean.  \n",
    "[table of properties from a farming supply site](http://www.farmerscopper.com/mechanical-properties-be-cu-172-table.html)  \n",
    "[sciency article](https://www.copper.org/resources/properties/microstructure/be_cu.html)\n",
    "There appear to be a *lot* of different material properties that can be achieved through heat treatment. We should figure out what heat treatment we want.\n",
    "\n",
    "[Alloywire](http://www.alloywire.com/products/beryllium-copper-cb-101/) sounds like a good place to actually get smallish quantities of BeCu.   \n"
   ]
  },
  {
   "cell_type": "code",
   "execution_count": 5,
   "metadata": {
    "collapsed": false
   },
   "outputs": [
    {
     "data": {
      "text/plain": [
       "'2.562E-02'"
      ]
     },
     "execution_count": 5,
     "metadata": {},
     "output_type": "execute_result"
    }
   ],
   "source": [
    "# using the aged spring temper BC 101 from alloywire\n",
    "#                           0.5 mm    123 kN/mm^2        1200 N/mm^2\n",
    "\"%.3E\" % minBendingRadius(D=0.5e-3, E=123e9, yield_stress=1200e6)"
   ]
  },
  {
   "cell_type": "code",
   "execution_count": 6,
   "metadata": {
    "collapsed": false
   },
   "outputs": [
    {
     "data": {
      "text/plain": [
       "'3.958E-02'"
      ]
     },
     "execution_count": 6,
     "metadata": {},
     "output_type": "execute_result"
    }
   ],
   "source": [
    "# using the inconel from alloywire\n",
    "#                           0.5 mm    123 kN/mm^2        1200 N/mm^2\n",
    "\"%.3E\" % minBendingRadius(D=0.5e-3, E=205.8e9, yield_stress=1300e6)"
   ]
  }
 ],
 "metadata": {
  "celltoolbar": "Raw Cell Format",
  "kernelspec": {
   "display_name": "Python 3",
   "language": "python",
   "name": "python3"
  },
  "language_info": {
   "codemirror_mode": {
    "name": "ipython",
    "version": 3
   },
   "file_extension": ".py",
   "mimetype": "text/x-python",
   "name": "python",
   "nbconvert_exporter": "python",
   "pygments_lexer": "ipython3",
   "version": "3.4.3"
  },
  "varInspector": {
   "cols": {
    "lenName": 16,
    "lenType": 16,
    "lenVar": 40
   },
   "kernels_config": {
    "python": {
     "delete_cmd_postfix": "",
     "delete_cmd_prefix": "del ",
     "library": "var_list.py",
     "varRefreshCmd": "print(var_dic_list())"
    },
    "r": {
     "delete_cmd_postfix": ") ",
     "delete_cmd_prefix": "rm(",
     "library": "var_list.r",
     "varRefreshCmd": "cat(var_dic_list()) "
    }
   },
   "types_to_exclude": [
    "module",
    "function",
    "builtin_function_or_method",
    "instance",
    "_Feature"
   ],
   "window_display": false
  }
 },
 "nbformat": 4,
 "nbformat_minor": 0
}
