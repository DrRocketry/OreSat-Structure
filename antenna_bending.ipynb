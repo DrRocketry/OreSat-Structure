{
 "cells": [
  {
   "cell_type": "markdown",
   "metadata": {},
   "source": [
    "This is a back-of-the-envelope calculation on the bending radius for the antennas on the -Z face.\n",
    "\n",
    "First, a little re-justification of the bending radius formula:  \n",
    "$\\rho$= bending radius  \n",
    "$y$= distance from neutral axis  \n",
    "$\\epsilon$= strain  \n",
    "$L$= wire length  \n",
    "$\\theta$= angle along the wire  \n",
    "$\\sigma_y$= stress  \n",
    "$E$= modulus of elasticity  \n",
    "$D$= wire diameter  \n",
    "\n",
    "$r=\\rho+y$  \n",
    "$dL=rd\\theta$  \n",
    "$dL_0=\\rho d\\theta$  \n",
    "\n",
    "$\\epsilon = \\frac{dL}{dL_0}-1$  \n",
    "$\\epsilon = \\frac{rd\\theta}{\\rho d\\theta}-1$  \n",
    "$\\epsilon = \\frac{\\rho+y}{\\rho}-1$  \n",
    "$\\epsilon = \\frac{y}{\\rho}$  \n",
    "$\\rho_y = \\frac{y}{\\sigma_y}$  ($y$ subscript referrs to yield)  \n",
    "$\\pmb{\\rho_y = \\frac{DE}{2\\sigma_y}}$\n",
    "\n",
    "Since this is an Eulerian model, it's only valid when $\\rho\\gg D$. So, if we get $\\rho_y\\leq 10D$, we should be suspicious of the answer and either use a more complicated model or add a hefty factor of safety. "
   ]
  },
  {
   "cell_type": "code",
   "execution_count": 1,
   "metadata": {
    "collapsed": true
   },
   "outputs": [],
   "source": [
    "def minBendingRadius(D, E, yield_stress):\n",
    "    return(D*E/(2*yield_stress))"
   ]
  },
  {
   "cell_type": "markdown",
   "metadata": {},
   "source": [
    "For the Beryllium Copper (BeCu) listed [here](http://www.lfa-wire.com/heat-treatable-and-tempered_alloy-10_c17500-alloy-3_c17510.htm), we get the following for a 1 mm diameter wire."
   ]
  },
  {
   "cell_type": "code",
   "execution_count": 2,
   "metadata": {
    "collapsed": false
   },
   "outputs": [
    {
     "data": {
      "text/plain": [
       "'4.821E-02'"
      ]
     },
     "execution_count": 2,
     "metadata": {},
     "output_type": "execute_result"
    }
   ],
   "source": [
    "\"%.3E\" % minBendingRadius(D=0.001, E=13.5E9, yield_stress=140.0E6)"
   ]
  },
  {
   "cell_type": "markdown",
   "metadata": {},
   "source": [
    "Using [this](http://www.matweb.com/search/DataSheet.aspx?MatGUID=9b159fd901454263b8a90c22a66f1988) BeCu, we get:"
   ]
  },
  {
   "cell_type": "code",
   "execution_count": 3,
   "metadata": {
    "collapsed": false
   },
   "outputs": [
    {
     "data": {
      "text/plain": [
       "'2.602E-01'"
      ]
     },
     "execution_count": 3,
     "metadata": {},
     "output_type": "execute_result"
    }
   ],
   "source": [
    "\"%.3E\" % minBendingRadius(D=0.001, E=115.0E9, yield_stress=221.0E6)"
   ]
  },
  {
   "cell_type": "markdown",
   "metadata": {},
   "source": [
    "So, the design of the deployment mechanism kind of depends on the material choice. We have a lot more options with a 4.8 cm bending radius than with a 26 cm bending radius. "
   ]
  },
  {
   "cell_type": "markdown",
   "metadata": {},
   "source": [
    "For [stainless steel wire](http://www.matweb.com/search/DataSheet.aspx?MatGUID=2c4221a8202b4184b97784ddc532d579):"
   ]
  },
  {
   "cell_type": "code",
   "execution_count": 7,
   "metadata": {
    "collapsed": false
   },
   "outputs": [
    {
     "data": {
      "text/plain": [
       "'9.741E-02'"
      ]
     },
     "execution_count": 7,
     "metadata": {},
     "output_type": "execute_result"
    }
   ],
   "source": [
    "\"%.3E\" % minBendingRadius(D=0.0016, E=193.0E9, yield_stress=1585.0E6)"
   ]
  },
  {
   "cell_type": "code",
   "execution_count": null,
   "metadata": {
    "collapsed": true
   },
   "outputs": [],
   "source": []
  }
 ],
 "metadata": {
  "celltoolbar": "Raw Cell Format",
  "kernelspec": {
   "display_name": "Python 3",
   "language": "python",
   "name": "python3"
  },
  "language_info": {
   "codemirror_mode": {
    "name": "ipython",
    "version": 3
   },
   "file_extension": ".py",
   "mimetype": "text/x-python",
   "name": "python",
   "nbconvert_exporter": "python",
   "pygments_lexer": "ipython3",
   "version": "3.4.3"
  }
 },
 "nbformat": 4,
 "nbformat_minor": 0
}
